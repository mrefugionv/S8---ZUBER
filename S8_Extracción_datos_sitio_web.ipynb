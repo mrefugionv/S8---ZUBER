{
  "nbformat": 4,
  "nbformat_minor": 0,
  "metadata": {
    "colab": {
      "provenance": [],
      "authorship_tag": "ABX9TyNhYHZjxuZpZm7Dkc8AJXxb",
      "include_colab_link": true
    },
    "kernelspec": {
      "name": "python3",
      "display_name": "Python 3"
    },
    "language_info": {
      "name": "python"
    }
  },
  "cells": [
    {
      "cell_type": "markdown",
      "metadata": {
        "id": "view-in-github",
        "colab_type": "text"
      },
      "source": [
        "<a href=\"https://colab.research.google.com/github/mrefugionv/S8---ZUBER/blob/main/S8_Extracci%C3%B3n_datos_sitio_web.ipynb\" target=\"_parent\"><img src=\"https://colab.research.google.com/assets/colab-badge.svg\" alt=\"Open In Colab\"/></a>"
      ]
    },
    {
      "cell_type": "markdown",
      "source": [
        "Escribe un código para analizar los datos sobre el clima en Chicago en noviembre de 2017 desde el sitio web:\n",
        "\n",
        "[https://practicum-content.s3.us-west-1.amazonaws.com/data-analyst-eng/moved_chicago_weather_2017.html)\n",
        "\n",
        "El nombre del DataFrame debe ser weather_records y tienes que especificarlo cuando buscas: attrs={\"id\": \"weather_records\"} . Imprime el DataFrame completo.\n",
        "\n"
      ],
      "metadata": {
        "id": "xnBHNNunBRZ5"
      }
    },
    {
      "cell_type": "code",
      "execution_count": 1,
      "metadata": {
        "colab": {
          "base_uri": "https://localhost:8080/"
        },
        "id": "nUtbNZgrBKBs",
        "outputId": "7d00b2d5-6a58-4bf3-9f04-f8638a06750a"
      },
      "outputs": [
        {
          "output_type": "stream",
          "name": "stdout",
          "text": [
            "           Date and time Temperature       Description\n",
            "0    2017-11-01 00:00:00     276.150     broken clouds\n",
            "1    2017-11-01 01:00:00     275.700  scattered clouds\n",
            "2    2017-11-01 02:00:00     275.610   overcast clouds\n",
            "3    2017-11-01 03:00:00     275.350     broken clouds\n",
            "4    2017-11-01 04:00:00     275.240     broken clouds\n",
            "..                   ...         ...               ...\n",
            "692  2017-11-29 20:00:00     281.340        few clouds\n",
            "693  2017-11-29 21:00:00     281.690      sky is clear\n",
            "694  2017-11-29 22:00:00     281.070        few clouds\n",
            "695  2017-11-29 23:00:00     280.060      sky is clear\n",
            "696  2017-11-30 00:00:00     278.460      sky is clear\n",
            "\n",
            "[697 rows x 3 columns]\n"
          ]
        }
      ],
      "source": [
        "import requests  # Para obtener datos de sitios web\n",
        "from bs4 import BeautifulSoup #  Para análisis sintáctico HTML\n",
        "import pandas as pd\n",
        "\n",
        "URL ='https://practicum-content.s3.us-west-1.amazonaws.com/data-analyst-eng/moved_chicago_weather_2017.html'\n",
        "response = requests.get(url=URL)\n",
        "#print(response)  # 200 indica hubo respuesta del servidor.\n",
        "\n",
        "soup = BeautifulSoup(response.text,'lxml')\n",
        "table = soup.find(\"table\", attrs={\"id\": \"weather_records\"})\n",
        "\n",
        "heading_table=[]\n",
        "for row in table.find_all('th'):\n",
        "    heading_table.append(row.text)\n",
        "\n",
        "content = []\n",
        "for row in table.find_all('tr'):\n",
        "    if not row.find_all('th'):\n",
        "        content.append([element.text for element in row.find_all('td')])\n",
        "\n",
        "weather_records = pd.DataFrame(content, columns=heading_table)\n",
        "\n",
        "print(weather_records)"
      ]
    },
    {
      "cell_type": "code",
      "source": [],
      "metadata": {
        "id": "gTO_G7FtB1aZ"
      },
      "execution_count": null,
      "outputs": []
    }
  ]
}